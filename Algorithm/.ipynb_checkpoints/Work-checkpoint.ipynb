{
 "cells": [
  {
   "cell_type": "markdown",
   "metadata": {},
   "source": [
    "# Instructions\n",
    "* You must work on this assignment individually.\n",
    "* This assignment contributes 20% towards your final mark in FIT5211.\n",
    "* The subjects are sorting, trees and dynamic programming.\n",
    "* The exercises are roughly given by increasing difficulty.\n",
    "* You may create auxiliary/helper functions for each question, as long as you use the pre-defined functions, if any is given.\n",
    "* Unit tests have only been provided for Exercise 1. You will need to write your own tests when they are not provided. \n",
    "* The expected deliverable is this Jupyter Notebook, completed with your answers.\n",
    "* For questions on this assigment, please use the Moodle forum https://moodle.vle.monash.edu/mod/forum/view.php?id=4764773.\n",
    "* The deadline is May 25, 23:55 via Moodle: https://moodle.vle.monash.edu/course/view.php?id=42910&section=5#5. If this does not work, and only in this case, send your Notebook to pierre.lebodic@monash.edu.\n",
    "* The late penalty is 10 marks (deducted from your original mark) per late day"
   ]
  },
  {
   "cell_type": "markdown",
   "metadata": {},
   "source": [
    "# Exercise 1: Sorting Lists of Pairs (50 marks)"
   ]
  },
  {
   "cell_type": "markdown",
   "metadata": {},
   "source": [
    "(Note that in this exercise, questions may be attempted without having completed all previous questions)"
   ]
  },
  {
   "cell_type": "markdown",
   "metadata": {},
   "source": [
    "Consider the abstract Python class below:"
   ]
  },
  {
   "cell_type": "code",
   "execution_count": 2,
   "metadata": {
    "collapsed": true
   },
   "outputs": [],
   "source": [
    "class Comparison:\n",
    "    def __init__(self):\n",
    "        pass\n",
    "    \n",
    "    #returns True if the two objects are comparable,\n",
    "    #False otherwise\n",
    "    def areComparable(self, other):\n",
    "        raise Exception(\"NotImplementedException\")\n",
    "        \n",
    "    #returns True if the two objects are equal,\n",
    "    #False otherwise\n",
    "    def __eq__(self, other):\n",
    "        raise Exception(\"NotImplementedException\")\n",
    "   \n",
    "    #returns True if self > other,\n",
    "    #False otherwise\n",
    "    def __gt__(self, other):\n",
    "        raise Exception(\"NotImplementedException\")\n",
    "        \n",
    "    #returns True if self < other,\n",
    "    #False otherwise\n",
    "    def __lt__(self, other):\n",
    "        raise Exception(\"NotImplementedException\")    \n",
    "        \n",
    "    def __ne__(self, other):\n",
    "        return not self.__eq__(other)\n",
    "                \n",
    "    def __ge__(self, other):\n",
    "        return self.__eq__(other) or self.__gt__(other)\n",
    "\n",
    "    def __le__(self, other):\n",
    "        return self.__eq__(other) or self.__lt__(other)\n",
    "        \n",
    "    def compare(self, other):\n",
    "        if self.areComparable(other) is False:\n",
    "            return None\n",
    "        elif self == other:\n",
    "            return 0\n",
    "        elif self < other:\n",
    "            return -1\n",
    "        elif self > other:\n",
    "            return 1\n",
    "        else:\n",
    "            assert False, \"Inconsistent operation definitions\""
   ]
  },
  {
   "cell_type": "markdown",
   "metadata": {},
   "source": [
    "The Comparison class provides a way to model items that are not always comparable. For instance, the pair of integers $(5, 10)$ is greater than $(4, 8)$, but it is not comparable to $(6, 5)$, because $5 < 6$ and $10 > 5$."
   ]
  },
  {
   "cell_type": "markdown",
   "metadata": {},
   "source": [
    "In this exercise, we will look into different ways to sort list of pairs. We will suppose that the pairs in a list are all different.  "
   ]
  },
  {
   "cell_type": "markdown",
   "metadata": {},
   "source": [
    "## Question 1.1 (10 marks)"
   ]
  },
  {
   "cell_type": "markdown",
   "metadata": {},
   "source": [
    "The rules of comparison between two Pairs $(a, b)$ and $(c, d)$ are:\n",
    "* $(a, b) == (c, d)$ if and only if $a == c$ and $b == d$,\n",
    "* $(a, b) > (c, d)$ if and only if ($a > c$ and $b \\geq d$) or ($a \\geq c$ and $b > d$),\n",
    "* $(a, b) < (c, d)$ if and only if ($a < c$ and $b \\leq d$) or ($a \\leq c$ and $b < d$).\n",
    "\n",
    "We say that $(a, b)$ and $(c, d)$ are comparable if \n",
    "* $(a, b) == (c, d)$, or\n",
    "* $(a, b) > (c, d)$, or\n",
    "* $(a, b) < (c, d)$.\n",
    "\n",
    "We ask that you implement the rules above in the class called Pair below, by completing the functions that have a comment \"#TODO\" in the body. Note that the class Pair inherits from Comparison."
   ]
  },
  {
   "cell_type": "code",
   "execution_count": 3,
   "metadata": {
    "collapsed": true
   },
   "outputs": [],
   "source": [
    "class Pair(Comparison):\n",
    "    def __init__(self, x, y):\n",
    "        self.x = x\n",
    "        self.y = y\n",
    "    \n",
    "    def __str__(self):\n",
    "        return \"({},{})\".format(self.x, self.y)\n",
    "        \n",
    "    def areComparable(self, other):\n",
    "        if self.__eq__(other) or self.__gt__(other) or self.__lt__(other):\n",
    "            return True\n",
    "        return False\n",
    "        \n",
    "    def __eq__(self, other):\n",
    "        return self.x == other.x and self.y==other.y\n",
    "    \n",
    "    def __gt__(self, other):\n",
    "        if (self.x >= other.x and self.y>other.y) or(self.x>other.x and self.y>=other.y):\n",
    "            return True\n",
    "        else:\n",
    "            return False\n",
    "        \n",
    "    def __lt__(self, other):\n",
    "        if (self.x <= other.x and self.y<other.y) or(self.x<other.x and self.y<=other.y):\n",
    "            return True\n",
    "        else:\n",
    "            return False"
   ]
  },
  {
   "cell_type": "markdown",
   "metadata": {},
   "source": [
    "We provide a test class below. You don't need to edit it, but the class Pair you write need pass these tests! "
   ]
  },
  {
   "cell_type": "code",
   "execution_count": 4,
   "metadata": {
    "collapsed": true
   },
   "outputs": [],
   "source": [
    "import unittest\n",
    "\n",
    "class TestPair(unittest.TestCase):\n",
    "    def setUp(self):\n",
    "        self.v00 = Pair(0,0)\n",
    "        self.v01 = Pair(0,1)\n",
    "        self.v10 = Pair(1, 0)\n",
    "        self.v11 = Pair(1, 1)\n",
    "        self.v21 = Pair(2, 1)\n",
    "        self.v31 = Pair(3, 1)\n",
    "        self.v23 = Pair(2, 3)\n",
    "        self.v23other = Pair(2, 3)\n",
    "    \n",
    "    def test_areComparable(self):\n",
    "        self.assertTrue(self.v00.areComparable(self.v01))\n",
    "        self.assertTrue(self.v01.areComparable(self.v00))\n",
    "        \n",
    "        self.assertTrue(self.v11.areComparable(self.v00))\n",
    "        self.assertTrue(self.v00.areComparable(self.v11))\n",
    "        \n",
    "        self.assertTrue(self.v21.areComparable(self.v23))\n",
    "        self.assertTrue(self.v23.areComparable(self.v21))\n",
    "        \n",
    "        self.assertTrue(self.v23.areComparable(self.v23))\n",
    "        \n",
    "        self.assertTrue(self.v23.areComparable(self.v23other))\n",
    "        self.assertTrue(self.v23other.areComparable(self.v23))\n",
    "        \n",
    "        self.assertFalse(self.v01.areComparable(self.v10))\n",
    "        self.assertFalse(self.v10.areComparable(self.v01))\n",
    "        \n",
    "        self.assertFalse(self.v31.areComparable(self.v23))\n",
    "        self.assertFalse(self.v23.areComparable(self.v31))\n",
    "    \n",
    "    def test_eq(self):\n",
    "        self.assertTrue(self.v00 == self.v00)\n",
    "        self.assertTrue(self.v21 == self.v21)\n",
    "        self.assertTrue(self.v23 == self.v23)\n",
    "        self.assertTrue(self.v23 == self.v23other)\n",
    "        \n",
    "        self.assertFalse(self.v00 == self.v11)\n",
    "        self.assertFalse(self.v21 == self.v11)\n",
    "        self.assertFalse(self.v21 == self.v23)\n",
    "    \n",
    "    def test_ne(self):\n",
    "        self.assertFalse(self.v00 != self.v00)\n",
    "        self.assertFalse(self.v21 != self.v21)\n",
    "        self.assertFalse(self.v23 != self.v23)\n",
    "        self.assertFalse(self.v23 != self.v23other)\n",
    "        \n",
    "        self.assertTrue(self.v00 != self.v11)\n",
    "        self.assertTrue(self.v21 != self.v11)\n",
    "        self.assertTrue(self.v21 != self.v23)\n",
    "    \n",
    "    def test_gt(self):\n",
    "        self.assertTrue(self.v01 > self.v00)\n",
    "        self.assertTrue(self.v10 > self.v00)\n",
    "        self.assertTrue(self.v31 > self.v21)\n",
    "        \n",
    "        self.assertFalse(self.v00 > self.v01)\n",
    "        self.assertFalse(self.v00 > self.v01)\n",
    "        self.assertFalse(self.v21 > self.v31)\n",
    "        \n",
    "        self.assertFalse(self.v10 > self.v01)\n",
    "        self.assertFalse(self.v01 > self.v10)\n",
    "        self.assertFalse(self.v31 > self.v23)\n",
    "        self.assertFalse(self.v23 > self.v31)\n",
    "    \n",
    "    def test_lt(self):\n",
    "        self.assertFalse(self.v01 < self.v00)\n",
    "        self.assertFalse(self.v10 < self.v00)\n",
    "        self.assertFalse(self.v31 < self.v21)\n",
    "        \n",
    "        self.assertTrue(self.v00 < self.v01)\n",
    "        self.assertTrue(self.v00 < self.v01)\n",
    "        self.assertTrue(self.v21 < self.v31)\n",
    "        \n",
    "        self.assertFalse(self.v10 < self.v01)\n",
    "        self.assertFalse(self.v01 < self.v10)\n",
    "        self.assertFalse(self.v31 < self.v23)\n",
    "        self.assertFalse(self.v23 < self.v31)    "
   ]
  },
  {
   "cell_type": "code",
   "execution_count": null,
   "metadata": {
    "collapsed": true
   },
   "outputs": [],
   "source": []
  },
  {
   "cell_type": "code",
   "execution_count": 5,
   "metadata": {
    "collapsed": false
   },
   "outputs": [
    {
     "name": "stderr",
     "output_type": "stream",
     "text": [
      ".....\n",
      "----------------------------------------------------------------------\n",
      "Ran 5 tests in 0.001s\n",
      "\n",
      "OK\n"
     ]
    },
    {
     "data": {
      "text/plain": [
       "<unittest.runner.TextTestResult run=5 errors=0 failures=0>"
      ]
     },
     "execution_count": 5,
     "metadata": {},
     "output_type": "execute_result"
    }
   ],
   "source": [
    "test = TestPair()\n",
    "suite = unittest.TestLoader().loadTestsFromModule(test)\n",
    "unittest.TextTestRunner().run(suite)"
   ]
  },
  {
   "cell_type": "markdown",
   "metadata": {},
   "source": [
    "In the following questions, we suppose that we have a set of Pairs, and that not every two pairs in that set are comparable."
   ]
  },
  {
   "cell_type": "markdown",
   "metadata": {},
   "source": [
    "## Question 1.2 (10 marks)"
   ]
  },
  {
   "cell_type": "markdown",
   "metadata": {},
   "source": [
    "Given a list $l$ of Pairs in no particular order, use a sorting algorithm similar to *selection sort* to sort $l$ such that, at the end of the algorithm, for every two pairs $l[i]=(a, b)$ and $l[j]=(c, d)$ at index $i$ and $j$ in $l$, respectively, with $i <j$, we have:\n",
    "* either $(a, b) \\leq (c, d)$,\n",
    "* or $(a, b)$ and $(c, d)$ are not comparable."
   ]
  },
  {
   "cell_type": "code",
   "execution_count": 6,
   "metadata": {
    "collapsed": true
   },
   "outputs": [],
   "source": [
    "def pairSort(l):\n",
    "    for i in range(0,len(l)-1):\n",
    "        min_idx = i\n",
    "        for j in range(i+1, len(l)):\n",
    "            if l[j]<=l[min_idx]:\n",
    "                min_idx = j\n",
    "        l[i],l[min_idx] = l[min_idx], l[i]"
   ]
  },
  {
   "cell_type": "markdown",
   "metadata": {},
   "source": [
    "Again, we provide a test class below. You don't need to edit it, but the method pairsort you wrote needs to pass these tests! "
   ]
  },
  {
   "cell_type": "code",
   "execution_count": 7,
   "metadata": {
    "collapsed": true
   },
   "outputs": [],
   "source": [
    "import unittest\n",
    "import random\n",
    "\n",
    "class TestPairSort(unittest.TestCase):\n",
    "    def setUp(self):\n",
    "        self.PairClass = Pair\n",
    "        self.sortAlgo = pairSort\n",
    "    \n",
    "    def test1(self):\n",
    "        #in this test we suppose x=0 for all entries\n",
    "        #this means that the algorithm should do a regular bubble sort\n",
    "        #we also suppose everything is already ordered\n",
    "        l = [self.PairClass(0, 1), self.PairClass(0, 3), self.PairClass(0, 4), self.PairClass(0, 6), \n",
    "            self.PairClass(0, 8), self.PairClass(0, 15), ]\n",
    "        self.sortAlgo(l)\n",
    "        #for item in l: print(item)\n",
    "        self.checkorder(l)\n",
    "            \n",
    "    def test2(self):\n",
    "        #in this test we suppose x=0 for all entries\n",
    "        #this means that the sort algorithms should do a \"regular\" sort\n",
    "        l = [self.PairClass(0, 8), self.PairClass(0, 4), self.PairClass(0, 3), self.PairClass(0, 9), \n",
    "            self.PairClass(0, 10), self.PairClass(0, 5), ]\n",
    "        self.sortAlgo(l)\n",
    "        #for item in sortedl: print(item)\n",
    "        self.checkorder(l)\n",
    "\n",
    "            \n",
    "    def test3(self):\n",
    "        #in this test we suppose x and y are not fixed\n",
    "        #we also suppose that everything is in a good order\n",
    "        l = [self.PairClass(5, 8), self.PairClass(5, 10), self.PairClass(6, 10), self.PairClass(7, 12), \n",
    "            self.PairClass(5, 12), self.PairClass(9, 12), ]\n",
    "        sortedl = self.sortAlgo(l)\n",
    "        #for item in sortedl: print(item)\n",
    "        self.checkorder(l)\n",
    "        \n",
    "    def test4(self):\n",
    "        #in this test we suppose x and y are not fixed\n",
    "        #we suppose there is no two pairs that are comparable\n",
    "        l = [self.PairClass(8, 8), self.PairClass(5, 10), self.PairClass(10, 8), self.PairClass(12, 5)]\n",
    "        self.sortAlgo(l)\n",
    "        #for item in l: print(item)\n",
    "        self.checkorder(l)\n",
    "        \n",
    "    def test5(self):\n",
    "        #in this test we suppose x and y are not fixed\n",
    "        #the input is in arbitrary order\n",
    "        #we only test one case\n",
    "        l = [self.PairClass(5, 8), self.PairClass(10, 10), self.PairClass(12, 5), self.PairClass(9, 5),\n",
    "             self.PairClass(5, 10), self.PairClass(7, 2), self.PairClass(6, 10) ]\n",
    "        self.sortAlgo(l)\n",
    "        #for item in l: print(item)\n",
    "        self.checkorder(l)\n",
    "    \n",
    "    def test6(self):\n",
    "        #in this test we suppose x and y are not fixed\n",
    "        #the input is in arbitrary order\n",
    "        #we generate many cases\n",
    "        for size in range(0, 100):\n",
    "            #create a list\n",
    "            l = []\n",
    "            xs = random.sample(range(0, 100), size)\n",
    "            xy = random.sample(range(0, 100), size)\n",
    "            for i in range(0, size):\n",
    "                l.append(self.PairClass(xs[i], xy[i]))\n",
    "            self.sortAlgo(l)\n",
    "            #for item in l: print(item)\n",
    "            self.checkorder(l)\n",
    "        \n",
    "    def checkorder(self, l):\n",
    "        for i in range(0, len(l)-1):\n",
    "            for j in range(i, len(l)-1):\n",
    "                if l[i].areComparable(l[j]):\n",
    "                    self.assertTrue(l[i] <= l[j], \"{} and {} are not well ordered\".format(l[i], l[j]) )"
   ]
  },
  {
   "cell_type": "code",
   "execution_count": 8,
   "metadata": {
    "collapsed": false
   },
   "outputs": [
    {
     "name": "stderr",
     "output_type": "stream",
     "text": [
      "......\n",
      "----------------------------------------------------------------------\n",
      "Ran 6 tests in 0.758s\n",
      "\n",
      "OK\n"
     ]
    },
    {
     "data": {
      "text/plain": [
       "<unittest.runner.TextTestResult run=6 errors=0 failures=0>"
      ]
     },
     "execution_count": 8,
     "metadata": {},
     "output_type": "execute_result"
    }
   ],
   "source": [
    "test = TestPairSort()\n",
    "suite = unittest.TestLoader().loadTestsFromModule(test)\n",
    "unittest.TextTestRunner().run(suite)"
   ]
  },
  {
   "cell_type": "markdown",
   "metadata": {},
   "source": [
    "## Question 1.3 (5 marks)"
   ]
  },
  {
   "cell_type": "markdown",
   "metadata": {},
   "source": [
    "Suppose we have a list of Pairs of integers.\n",
    "We want to implement a comparison mechanism between two pairs of integers using a function **pairKey**, which takes a pair as input and outputs a single number. The function pairKey should be such that for two pairs $(a, b)$ and $(c, d)$,\n",
    "* $(a,b) > (c,d)$ implies $pairKey((a,b)) > pairKey((c,d))$,\n",
    "* $(a,b) < (c,d)$ implies $pairKey((a,b)) < pairKey((c,d))$,\n",
    "* $(a,b) == (c,d)$ implies $pairKey((a,b)) == pairKey((c,d))$."
   ]
  },
  {
   "cell_type": "code",
   "execution_count": 9,
   "metadata": {
    "collapsed": true
   },
   "outputs": [],
   "source": [
    "def pairKey(self):\n",
    "    result = self.x+self.y\n",
    "    return result"
   ]
  },
  {
   "cell_type": "markdown",
   "metadata": {},
   "source": [
    "If you have defined the function pairKey correctly, we should now be able to use the built-in sort function of Python to sort our Pairs:"
   ]
  },
  {
   "cell_type": "code",
   "execution_count": 10,
   "metadata": {
    "collapsed": true
   },
   "outputs": [],
   "source": [
    "def pairSortWithKey(l):\n",
    "    l.sort(key = pairKey)"
   ]
  },
  {
   "cell_type": "markdown",
   "metadata": {},
   "source": [
    "(For more information on what the above does, please refer to https://docs.python.org/3/howto/sorting.html)"
   ]
  },
  {
   "cell_type": "code",
   "execution_count": 11,
   "metadata": {
    "collapsed": false
   },
   "outputs": [],
   "source": [
    "class TestKeyPairSort(TestPairSort):\n",
    "    def setUp(self):\n",
    "        self.PairClass = Pair\n",
    "        self.sortAlgo = pairSortWithKey"
   ]
  },
  {
   "cell_type": "code",
   "execution_count": 12,
   "metadata": {
    "collapsed": false
   },
   "outputs": [
    {
     "name": "stderr",
     "output_type": "stream",
     "text": [
      "......\n",
      "----------------------------------------------------------------------\n",
      "Ran 6 tests in 0.656s\n",
      "\n",
      "OK\n"
     ]
    },
    {
     "data": {
      "text/plain": [
       "<unittest.runner.TextTestResult run=6 errors=0 failures=0>"
      ]
     },
     "execution_count": 12,
     "metadata": {},
     "output_type": "execute_result"
    }
   ],
   "source": [
    "test = TestKeyPairSort()\n",
    "suite = unittest.TestLoader().loadTestsFromModule(test)\n",
    "unittest.TextTestRunner().run(suite)"
   ]
  },
  {
   "cell_type": "markdown",
   "metadata": {},
   "source": [
    "## Question 1.4 (5 marks)"
   ]
  },
  {
   "cell_type": "markdown",
   "metadata": {},
   "source": [
    "Prove that the pairKey function you have defined above provides a guarantee that, if used as key for Python's sort, then the list will be sorted as stated in Queston 1.2."
   ]
  },
  {
   "cell_type": "markdown",
   "metadata": {},
   "source": [
    "the key transom function is,pairKey, use x plus y as commpareable object, if which is comparable, that means add attribute element x and y eihter grater than another or less than another, except that, equal obviously. If its elements are equal, Python's sort function is stability."
   ]
  },
  {
   "cell_type": "markdown",
   "metadata": {},
   "source": [
    "## Question 1.5 (5 marks)"
   ]
  },
  {
   "cell_type": "markdown",
   "metadata": {},
   "source": [
    "(We have *not* covered the concept of stability in this unit. If you are not yet familiar with this concept, learning about it is part of the question.)\n",
    "\n",
    "Use the fact that Python's sort is stable to provide a simple solution to sort a list of pairs as stated in Question 1.2. Use unit testing as in the previous questions to test your solution. Both your solution and the unit testing will be assessed. (no need to rewrite *new* test cases; use the old ones)."
   ]
  },
  {
   "cell_type": "code",
   "execution_count": 13,
   "metadata": {
    "collapsed": true
   },
   "outputs": [],
   "source": [
    "def pairSortUsingStability(l):\n",
    "    for i in range(len(l)-1):\n",
    "        for j in range(i+1,len(l)-1):\n",
    "            if l[i]>l[j]:\n",
    "                l[i],l[j] = l[j],l[i]"
   ]
  },
  {
   "cell_type": "code",
   "execution_count": 14,
   "metadata": {
    "collapsed": false
   },
   "outputs": [
    {
     "data": {
      "text/plain": [
       "False"
      ]
     },
     "execution_count": 14,
     "metadata": {},
     "output_type": "execute_result"
    }
   ],
   "source": [
    "#operator '>' has been reloading\n",
    "Pair(5,4)>Pair(4,5)"
   ]
  },
  {
   "cell_type": "code",
   "execution_count": 15,
   "metadata": {
    "collapsed": true
   },
   "outputs": [],
   "source": [
    "class TestPairSortUsingStability(TestPairSort):\n",
    "    def setUp(self):\n",
    "        self.PairClass = Pair\n",
    "        self.sortAlgo = pairSortUsingStability"
   ]
  },
  {
   "cell_type": "code",
   "execution_count": 16,
   "metadata": {
    "collapsed": false
   },
   "outputs": [
    {
     "name": "stderr",
     "output_type": "stream",
     "text": [
      "......\n",
      "----------------------------------------------------------------------\n",
      "Ran 6 tests in 0.709s\n",
      "\n",
      "OK\n"
     ]
    },
    {
     "data": {
      "text/plain": [
       "<unittest.runner.TextTestResult run=6 errors=0 failures=0>"
      ]
     },
     "execution_count": 16,
     "metadata": {},
     "output_type": "execute_result"
    }
   ],
   "source": [
    "test = TestPairSortUsingStability()\n",
    "suite = unittest.TestLoader().loadTestsFromModule(test)\n",
    "unittest.TextTestRunner().run(suite)"
   ]
  },
  {
   "cell_type": "markdown",
   "metadata": {},
   "source": [
    "## Question 1.6 (10 marks)"
   ]
  },
  {
   "cell_type": "markdown",
   "metadata": {},
   "source": [
    "Define a function pairSortFast that takes a list $l$ of $n$ Pairs as input and sort this list in $O(n)$ time in the worst case (not the amortised worst case). Suppose that any pair $(a,b)$ in $l$ is such that $a$ and $b \\in \\{0, \\dots, U\\}$, where $U$ is a small integer. Hint: *a clever hashing function* may help."
   ]
  },
  {
   "cell_type": "code",
   "execution_count": null,
   "metadata": {
    "collapsed": true
   },
   "outputs": [],
   "source": []
  },
  {
   "cell_type": "code",
   "execution_count": 17,
   "metadata": {
    "collapsed": false
   },
   "outputs": [],
   "source": [
    "def PairSortFast(array):\n",
    "    l = 0; r= len(array)-1\n",
    "    if l >= r:\n",
    "        return\n",
    "    stack = []\n",
    "    stack.append(l)\n",
    "    stack.append(r)\n",
    "    while stack:\n",
    "        low = stack.pop(0)\n",
    "        high = stack.pop(0)\n",
    "        if high - low <= 0:\n",
    "            continue\n",
    "        x = array[high]\n",
    "        i = low - 1\n",
    "        for j in range(low, high):\n",
    "            if array[j] <= x:\n",
    "                i += 1\n",
    "                array[i], array[j] = array[j], array[i]\n",
    "        array[i + 1], array[high] = array[high], array[i + 1]\n",
    "        stack.extend([low, i, i + 2, high])"
   ]
  },
  {
   "cell_type": "code",
   "execution_count": 18,
   "metadata": {
    "collapsed": false
   },
   "outputs": [],
   "source": [
    "class TestPairSortFast(TestPairSort):\n",
    "    def setUp(self):\n",
    "        self.PairClass = Pair\n",
    "        self.sortAlgo = PairSortFast"
   ]
  },
  {
   "cell_type": "code",
   "execution_count": 19,
   "metadata": {
    "collapsed": false
   },
   "outputs": [
    {
     "name": "stderr",
     "output_type": "stream",
     "text": [
      "......\n",
      "----------------------------------------------------------------------\n",
      "Ran 6 tests in 0.641s\n",
      "\n",
      "OK\n"
     ]
    },
    {
     "data": {
      "text/plain": [
       "<unittest.runner.TextTestResult run=6 errors=0 failures=0>"
      ]
     },
     "execution_count": 19,
     "metadata": {},
     "output_type": "execute_result"
    }
   ],
   "source": [
    "test = TestPairSortFast()\n",
    "suite = unittest.TestLoader().loadTestsFromModule(test)\n",
    "unittest.TextTestRunner().run(suite)"
   ]
  },
  {
   "cell_type": "markdown",
   "metadata": {},
   "source": [
    "## Question 1.7 (5 marks)"
   ]
  },
  {
   "cell_type": "markdown",
   "metadata": {},
   "source": [
    "Thoroughly benchmark all the sorting algorithms you have written, and plot their running time as a function of the size of the input list. You may use methods and code seen in the lectures or tutes and pracs during the semester."
   ]
  },
  {
   "cell_type": "code",
   "execution_count": 27,
   "metadata": {
    "collapsed": false
   },
   "outputs": [],
   "source": [
    "\n",
    "\n",
    "import time\n",
    "import numpy as np\n",
    "\n",
    "def running_time(list, algorithm):\n",
    "    start = time.clock()\n",
    "    algorithm(list)#Q 1.2\n",
    "    end = time.clock()\n",
    "    return float(end-start)\n",
    "    \n",
    "def init_analysisdata(list_collections):\n",
    "    sta_dic = {}\n",
    "    for algorithm in [pairSort, pairSortWithKey, pairSortUsingStability, PairSortFast]:\n",
    "        running_time_list = []\n",
    "        for list in list_collections:\n",
    "            list_len = len(list)\n",
    "            runtime = running_time(list, algorithm)\n",
    "            tmp = [list_len, runtime]\n",
    "            running_time_list.append(tmp)\n",
    "        sta_dic[algorithm.__name__] = np.array(running_time_list)\n",
    "    return sta_dic"
   ]
  },
  {
   "cell_type": "code",
   "execution_count": 21,
   "metadata": {
    "collapsed": true
   },
   "outputs": [],
   "source": [
    "l1 = [Pair(0, 1), Pair(0, 2), Pair(0, 4), Pair(0, 6), Pair(0, 8), Pair(0, 15) ]\n",
    "\n",
    "l2 = [Pair(-2,-3),Pair(-5,-6),Pair(-2,-7),Pair(0,1),Pair(1,1),Pair(-7,-3),Pair(-7,-6),Pair(-4,-7),Pair(0,2),Pair(7,1)]\n",
    "\n",
    "l3 = [Pair(-2,-3),Pair(-5,-6),Pair(-2,-7),Pair(0,1),Pair(1,1),Pair(-5,-3),Pair(-3,-6),Pair(-2,-7),Pair(4,1),Pair(6,1),\n",
    "      Pair(-8,-3),Pair(-9,-6),Pair(-5,-7),Pair(8,1),Pair(1,4)]\n",
    "\n",
    "l4 = [Pair(-2,-3),Pair(-59,-6),Pair(-2,-7),Pair(0,1),Pair(5,1),Pair(-2,-3),Pair(-5,-6),Pair(-5,-7),Pair(0,1),Pair(1,1),\n",
    "     Pair(-2,-3),Pair(-50,-6),Pair(-9,-7),Pair(0,1),Pair(35,1),Pair(-2,-3),Pair(-56,-6),Pair(-200,-7),Pair(0,1),Pair(1,1)]\n",
    "\n",
    "list_collections = [l1, l2, l3,l4]"
   ]
  },
  {
   "cell_type": "code",
   "execution_count": 30,
   "metadata": {
    "collapsed": false
   },
   "outputs": [
    {
     "data": {
      "image/png": "[encoded data removed]",
      "text/plain": [
       "<Figure size 432x288 with 1 Axes>"
      ]
     },
     "metadata": {},
     "output_type": "display_data"
    }
   ],
   "source": [
    "import numpy as np\n",
    "import matplotlib as mpl\n",
    "import matplotlib.pyplot as plt\n",
    "\n",
    "\n",
    "#sub_axix = filter(lambda x:x%200 == 0, x_axix)\n",
    "plt.title('Result Analysis')\n",
    "sta_dic = init_analysisdata(list_collections)\n",
    "\n",
    "pair_sort_fast_result = sta_dic['PairSortFast']\n",
    "pair_sort_result = sta_dic['pairSort']\n",
    "pairSortWithKey_result = sta_dic['pairSortWithKey']\n",
    "pairSortUsingStability_result = sta_dic['pairSortUsingStability']\n",
    "\n",
    "plt.plot(pair_sort_fast_result[:,0], pair_sort_fast_result[:,1], color='green', label='PairSortFast')\n",
    "plt.plot(pair_sort_result[:,0], pair_sort_result[:,1], color='red', label='pairSort')\n",
    "plt.plot(pairSortWithKey_result[:,0], pairSortUsingStability_result[:,1],  color='skyblue', label='pairSortWithKey')\n",
    "plt.plot(pairSortUsingStability_result[:,0], pairSortUsingStability_result[:,1], color='blue', label='pairSortUsingStability')\n",
    "plt.legend() # 显示图例\n",
    "\n",
    "plt.xlabel('list length')\n",
    "plt.ylabel('time')\n",
    "plt.show()"
   ]
  },
  {
   "cell_type": "markdown",
   "metadata": {},
   "source": [
    "# Exercise 2 (25 marks)"
   ]
  },
  {
   "cell_type": "markdown",
   "metadata": {},
   "source": [
    "We are again interested in lists of pairs of integers. However, this time, we want to store these pairs into a rooted tree $T$. More precisely, each node of $T$ will store a pair of $l$. This tree $T$ will have the property that for each inner node $k$ that stores a pair $(a, b)$, the pair $(c, d)$ stored at a node in the subtree of $k$ satisfies $(a, b) \\leq (c, d)$. Furthermore, the pairs stored at sibling nodes must be non-comparable.\n",
    "\n",
    "We will suppose that the root of the tree is a dummy pair $(-1, -1)$.\n",
    "\n",
    "You need to provide a unit test for each question in this exercise where code is required. Each question is evaluated on the correctness of your code and the thoroughness of your unit tests."
   ]
  },
  {
   "cell_type": "markdown",
   "metadata": {},
   "source": [
    "## Question 2.1 (10 marks)"
   ]
  },
  {
   "cell_type": "markdown",
   "metadata": {},
   "source": [
    "Define a class that stores the tree $T$ for any given list of pairs. The \\_\\_init\\_\\_() function must take a list as input and build the tree accordingly. An insert() function must allow the insertion of a pair to an initialised tree. In $O()$, what is the running time complexity of the functions you defined?"
   ]
  },
  {
   "cell_type": "code",
   "execution_count": null,
   "metadata": {
    "collapsed": true
   },
   "outputs": [],
   "source": [
    "class Node:\n",
    "    def __init__(self,data):\n",
    "        self.data = data\n",
    "        self.lchild = None\n",
    "        self.rchild = None\n",
    "\n",
    "class BST(Pair):\n",
    "    def __init__(self,node_list):\n",
    "        self.root = Node(Pair(-1,-1))\n",
    "        for node in node_list:\n",
    "            self.insert(node)\n",
    "\n",
    "    def search(self,data):\n",
    "        bt = self.root\n",
    "        while bt:\n",
    "            entry = bt.data\n",
    "            if data < entry:\n",
    "                bt = bt.lchild\n",
    "            elif data > entry:\n",
    "                bt = bt.rchild\n",
    "            else:\n",
    "                return entry\n",
    "        return False\n",
    "\n",
    "    def insert(self,data):\n",
    "        bt = self.root\n",
    "        if not bt:\n",
    "            self.root = Node(data)\n",
    "            return\n",
    "        while True:\n",
    "            entry = bt.data\n",
    "            if data < entry:\n",
    "                if bt.lchild is None:\n",
    "                    if bt.rchild is not None and bt.rchild.data.areComparable(data):\n",
    "                        return\n",
    "                    bt.lchild = Node(data)\n",
    "                    return\n",
    "                bt = bt.lchild\n",
    "            elif data > entry:\n",
    "                if bt.rchild is None:\n",
    "                    if bt.lchild is not None and bt.lchild.data.areComparable(data):\n",
    "                        return\n",
    "                    bt.rchild = Node(data)\n",
    "                    return\n",
    "                bt = bt.rchild\n",
    "            else:\n",
    "                bt.data = data\n",
    "                return"
   ]
  },
  {
   "cell_type": "code",
   "execution_count": null,
   "metadata": {
    "collapsed": true
   },
   "outputs": [],
   "source": [
    "#l = [Pair(0, 1), Pair(0, 2), Pair(0, 4), Pair(0, 6), \n",
    "#           Pair(0, 8), Pair(0, 15) ]\n",
    "#l2 = [Pair(-2,-3),Pair(-5,-6),Pair(-2,-7),Pair(0,1),Pair(1,1)]"
   ]
  },
  {
   "cell_type": "code",
   "execution_count": null,
   "metadata": {
    "collapsed": true
   },
   "outputs": [],
   "source": [
    "import unittest\n",
    "import random\n",
    "\n",
    "tree_list = []\n",
    "def front_visit(root):\n",
    "    if root == None:\n",
    "        return\n",
    "    tree_list.append(root.data)\n",
    "    front_visit(root.lchild)\n",
    "    front_visit(root.rchild)\n",
    "\n",
    "class TestBST(unittest.TestCase):\n",
    "    def setUp(self):\n",
    "        self.PairClass = Pair\n",
    "        self.Tree = BST\n",
    "    \n",
    "    def test_insert(self):\n",
    "        #in this test we suppose x=0 for all entries\n",
    "        #this means that the algorithm should do a regular bubble sort\n",
    "        #we also suppose everything is already ordered\n",
    "        l = [self.PairClass(0, 1), self.PairClass(0, 3), self.PairClass(0, 4), self.PairClass(0, 6), \n",
    "            self.PairClass(0, 8), self.PairClass(0, 15)]\n",
    "        T = self.Tree(l)\n",
    "        front_visit(T.root)\n",
    "        #for item in l: print(item)\n",
    "        self.checkNodes(l,tree_list)\n",
    "    \n",
    "    def checkNodes(self, std_list, tree2list):\n",
    "        for i in range(0, len(std_list)-1):\n",
    "            self.assertTrue(std_list[i] == tree2list[i+1], \"{} and {} are not well ordered\".format(std_list[i], tree_list[i]) )\n",
    "            "
   ]
  },
  {
   "cell_type": "code",
   "execution_count": null,
   "metadata": {
    "collapsed": false
   },
   "outputs": [],
   "source": [
    "test = TestBST()\n",
    "suite = unittest.TestLoader().loadTestsFromModule(test)\n",
    "unittest.TextTestRunner().run(suite)"
   ]
  },
  {
   "cell_type": "markdown",
   "metadata": {},
   "source": [
    "## Question 2.2 (5 marks)"
   ]
  },
  {
   "cell_type": "markdown",
   "metadata": {},
   "source": [
    "In the class you have defined in Question 2.1, can there be multiple trees that store the same list of pairs? (including after insertions?). Prove your answer."
   ]
  },
  {
   "cell_type": "markdown",
   "metadata": {},
   "source": [
    "### Yes, multiple trees could be stored in the same list of pairs. the single three as an element of a forest, split threes by root node. Save all of them in the same list coule be implementation "
   ]
  },
  {
   "cell_type": "markdown",
   "metadata": {},
   "source": [
    "## Question 2.3 (5 marks)"
   ]
  },
  {
   "cell_type": "markdown",
   "metadata": {},
   "source": [
    "We now relax the constraint that $T$ must be \"exactly\" a tree. A child node which stores a pair $(c, d)$ must now have as a parent all the nodes that have a pair $(a, b)$ such that $(a,b)\\leq(c,d)$."
   ]
  },
  {
   "cell_type": "markdown",
   "metadata": {},
   "source": [
    "Design a class (it may be based on the previous one) to allow and build this representation."
   ]
  },
  {
   "cell_type": "code",
   "execution_count": null,
   "metadata": {
    "collapsed": true
   },
   "outputs": [],
   "source": [
    "class Node:\n",
    "    def __init__(self,data):\n",
    "        self.data = data\n",
    "        self.lchild = None\n",
    "        self.rchild = None\n",
    "        self.parent = None\n",
    "\n",
    "class BST(Pair):\n",
    "    def __init__(self,node_list):\n",
    "        self.root = Node(Pair(-1,-1))\n",
    "        for node in node_list:\n",
    "            self.insert(node)\n",
    "\n",
    "    def search(self,data):\n",
    "        bt = self.root\n",
    "        while bt:\n",
    "            entry = bt.data\n",
    "            if data < entry:\n",
    "                bt = bt.lchild\n",
    "            elif data > entry:\n",
    "                bt = bt.rchild\n",
    "            else:\n",
    "                return entry\n",
    "        return False\n",
    "\n",
    "    def insert(self,data):\n",
    "        bt = self.root\n",
    "        if not bt:\n",
    "            self.root = Node(data)\n",
    "            return\n",
    "        while True:\n",
    "            entry = bt.data\n",
    "            if data < entry:\n",
    "                if bt.lchild is None:\n",
    "                    if bt.rchild is not None and bt.rchild.data.areComparable(data):\n",
    "                        return\n",
    "                    bt.lchild = Node(data)\n",
    "                    bt.lchild.parent = bt\n",
    "                    return\n",
    "                bt = bt.lchild\n",
    "            elif data > entry:\n",
    "                if bt.rchild is None:\n",
    "                    if bt.lchild is not None and bt.lchild.data.areComparable(data):\n",
    "                        return\n",
    "                    bt.rchild = Node(data)\n",
    "                    bt.rchild.parent = bt\n",
    "                    return\n",
    "                bt = bt.rchild\n",
    "            else:\n",
    "                bt.data = data\n",
    "                return"
   ]
  },
  {
   "cell_type": "markdown",
   "metadata": {},
   "source": [
    "## Question 2.4 (5 marks)"
   ]
  },
  {
   "cell_type": "markdown",
   "metadata": {},
   "source": [
    "Using the class written in Question 2.3, design and code an algorithm that traverses all the nodes in that data structure and outputs the stored pairs in sorted order (as defined in Question 1.2)."
   ]
  },
  {
   "cell_type": "code",
   "execution_count": null,
   "metadata": {
    "collapsed": true
   },
   "outputs": [],
   "source": [
    "def OutputSortedPairs(root):\n",
    "    if root == None:\n",
    "        return\n",
    "    tree_list.append(root.data)\n",
    "    front_visit(root.lchild)\n",
    "    front_visit(root.rchild)"
   ]
  },
  {
   "cell_type": "markdown",
   "metadata": {},
   "source": [
    "# Exercise 3 (25 marks)"
   ]
  },
  {
   "cell_type": "markdown",
   "metadata": {},
   "source": [
    "You are given a tree $T$ with an integer value (negative or positive) at each node. We want to select a subtree of $T$ (with the same root) that maximises the sum of the values at its nodes. Note that the answer is trivially $T$ if all nodes have a non-negative value."
   ]
  },
  {
   "cell_type": "markdown",
   "metadata": {},
   "source": [
    "## Question 3.1 (5 marks)"
   ]
  },
  {
   "cell_type": "markdown",
   "metadata": {},
   "source": [
    "Define a data structure to store $T$."
   ]
  },
  {
   "cell_type": "code",
   "execution_count": null,
   "metadata": {
    "collapsed": true
   },
   "outputs": [],
   "source": [
    "class Node:\n",
    "    def __init__(self,item):\n",
    "        self.item = item\n",
    "        self.child1 = None\n",
    "        self.child2 = None\n",
    "\n",
    "\n",
    "class Tree:\n",
    "    def __init__(self, lists):\n",
    "        self.root = None\n",
    "        for item in lists:\n",
    "            self.add(item)\n",
    "            \n",
    "    def add(self, item):\n",
    "        node = Node(item)\n",
    "        if self.root is None:\n",
    "            self.root = node\n",
    "        else:\n",
    "            q = [self.root]\n",
    "\n",
    "            while True:\n",
    "                pop_node = q.pop(0)\n",
    "                if pop_node.child1 is None:\n",
    "                    pop_node.child1 = node\n",
    "                    return\n",
    "                elif pop_node.child2 is None:\n",
    "                    pop_node.child2 = node\n",
    "                    return\n",
    "                else:\n",
    "                    q.append(pop_node.child1)\n",
    "                    q.append(pop_node.child2)\n",
    "                    \n",
    "    def preorder(self,root):\n",
    "        if root is None:\n",
    "            return []\n",
    "        result = [root.item]\n",
    "        left_item = self.preorder(root.child1)\n",
    "        right_item = self.preorder(root.child2)\n",
    "        return result + left_item + right_item"
   ]
  },
  {
   "cell_type": "markdown",
   "metadata": {},
   "source": [
    "## Question 3.2 (15 marks)"
   ]
  },
  {
   "cell_type": "markdown",
   "metadata": {},
   "source": [
    "Design and code a dynamic programming algorithm that solves this problem."
   ]
  },
  {
   "cell_type": "code",
   "execution_count": null,
   "metadata": {
    "collapsed": false
   },
   "outputs": [],
   "source": [
    "lists = [4,5,7,81,23,0]\n",
    "def maxChild():\n",
    "    T = Tree(lists)\n",
    "    tree2list = T.preorder(T.root)\n",
    "    result = tree2list[0]  \n",
    "    sum = tree2list[0]  \n",
    "    start_idx = 0  \n",
    "    for i in range(1, len(tree2list)):  \n",
    "        if sum > 0:  \n",
    "            sum += tree2list[i]  \n",
    "        else:  \n",
    "            sum = tree2list[i]  \n",
    "            start_idx = i  \n",
    "        if sum > result:  \n",
    "            result = sum  \n",
    "            end_idx = i  \n",
    "    return result,start_idx,end_idx #return maximum subtree, and start index, ending index of the list transform from tree using pre-order\n",
    "maxChild()"
   ]
  },
  {
   "cell_type": "markdown",
   "metadata": {},
   "source": [
    "## Question 3.3 (5 marks)"
   ]
  },
  {
   "cell_type": "markdown",
   "metadata": {},
   "source": [
    " Write and run unit tests and performance tests."
   ]
  },
  {
   "cell_type": "code",
   "execution_count": null,
   "metadata": {
    "collapsed": true
   },
   "outputs": [],
   "source": [
    "class TestMaxChild(unittest.TestCase):\n",
    "    def setUp(self):\n",
    "        self.Tree = Tree\n",
    "    \n",
    "    def test_sum(self):\n",
    "        #in this test we suppose x=0 for all entries\n",
    "        #this means that the algorithm should do a regular bubble sort\n",
    "        #we also suppose everything is already ordered\n",
    "        init_tree_nodes = [1, 2, -3, 4, 5]\n",
    "        T = self.Tree(init_tree_nodes)\n",
    "        tree2list = T.preorder(T.root)\n",
    "        sum,_,_ = maxChild(tree2list)\n",
    "        self.assertTrue(sum, 9)\n",
    "    \n",
    "    def test_idx(self):\n",
    "        init_tree_nodes = [1, 2, -3, 4, 5]\n",
    "        T = self.Tree(init_tree_nodes)\n",
    "        tree2list = T.preorder(T.root)\n",
    "        _, x, y = maxChild(tree2list)\n",
    "        self.assertTrue(x == 0, \"{} and {} are not well ordered\".format(x, 0))\n",
    "        self.assertTrue(y == 3, \"{} and {} are not well ordered\".format(y, 3))\n"
   ]
  },
  {
   "cell_type": "code",
   "execution_count": null,
   "metadata": {
    "collapsed": false
   },
   "outputs": [],
   "source": [
    "test = TestMaxChild()\n",
    "suite = unittest.TestLoader().loadTestsFromModule(test)\n",
    "unittest.TextTestRunner().run(suite)"
   ]
  }
 ],
 "metadata": {
  "anaconda-cloud": {},
  "kernelspec": {
   "display_name": "Python 3",
   "language": "python",
   "name": "python3"
  },
  "language_info": {
   "codemirror_mode": {
    "name": "ipython",
    "version": 3
   },
   "file_extension": ".py",
   "mimetype": "text/x-python",
   "name": "python",
   "nbconvert_exporter": "python",
   "pygments_lexer": "ipython3",
   "version": "3.5.2"
  }
 },
 "nbformat": 4,
 "nbformat_minor": 2
}
